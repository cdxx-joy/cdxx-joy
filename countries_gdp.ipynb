{
  "nbformat": 4,
  "nbformat_minor": 0,
  "metadata": {
    "colab": {
      "name": "countries_gdp.ipynb",
      "provenance": [],
      "collapsed_sections": [],
      "mount_file_id": "1bU5hbTSAor0CcL257GeP4lyHLrRzldMx",
      "authorship_tag": "ABX9TyN7SEwov4pX4WJvzXkF0XZA",
      "include_colab_link": true
    },
    "kernelspec": {
      "name": "python3",
      "display_name": "Python 3"
    },
    "language_info": {
      "name": "python"
    }
  },
  "cells": [
    {
      "cell_type": "markdown",
      "metadata": {
        "id": "view-in-github",
        "colab_type": "text"
      },
      "source": [
        "<a href=\"https://colab.research.google.com/github/cdxx-joy/cdxx-joy/blob/main/countries_gdp.ipynb\" target=\"_parent\"><img src=\"https://colab.research.google.com/assets/colab-badge.svg\" alt=\"Open In Colab\"/></a>"
      ]
    },
    {
      "cell_type": "code",
      "source": [
        "import numpy as np\n",
        "country=np.array(['Algeria','Angola','Argentina','Australia','Austria','Bahamas','Bangladesh','Belarus','Belgium','Bhutan','Brazil','Bulgaria','Cambodia','Cameroon','Chile','China','Colombia','Cyprus','Denmark','El Salvador','Estonia','Ethiopia','Fiji','Finland','France','Georgia','Ghana','Grenada','Guinea','Haiti','Honduras','Hungary','India','Indonesia','Ireland','Italy','Japan','Kenya', 'South Korea','Liberia','Malaysia','Mexico', 'Morocco','Nepal','New Zealand','Norway','Pakistan', 'Peru','Qatar','Russia','Singapore','South Africa','Spain','Sweden','Switzerland','Thailand', 'United Arab Emirates','United Kingdom','United States','Uruguay','Venezuela','Vietnam','Zimbabwe'])\n",
        "gdp=np.array([2255.225482,629.9553062,11601.63022,25306.82494,27266.40335,19466.99052,588.3691778,2890.345675,24733.62696,1445.760002,4803.398244,2618.876037,590.4521124,665.7982328,7122.938458,2639.54156,3362.4656,15378.16704,30860.12808,2579.115607,6525.541272,229.6769525,2242.689259,27570.4852,23016.84778,1334.646773,402.6953275,6047.200797,394.1156638,385.5793827,1414.072488,5745.981529,837.7464011,1206.991065,27715.52837,18937.24998,39578.07441,478.2194906,16684.21278,279.2204061,5345.213415,6288.25324,1908.304416,274.8728621,14646.42094,40034.85063,672.1547506,3359.517402,36152.66676,3054.727742,33529.83052,3825.093781,15428.32098,33630.24604,39170.41371,2699.123242,21058.43643,28272.40661,37691.02733,9581.05659,5671.912202,757.4009286,347.7456605])\n",
        "\n",
        "print(country)\n",
        "print()\n",
        "print(gdp)"
      ],
      "metadata": {
        "colab": {
          "base_uri": "https://localhost:8080/"
        },
        "id": "n6otRb3TPm6e",
        "outputId": "f699d874-6038-4a5d-eb76-69636b6bfb76"
      },
      "execution_count": null,
      "outputs": [
        {
          "output_type": "stream",
          "name": "stdout",
          "text": [
            "['Algeria' 'Angola' 'Argentina' 'Australia' 'Austria' 'Bahamas'\n",
            " 'Bangladesh' 'Belarus' 'Belgium' 'Bhutan' 'Brazil' 'Bulgaria' 'Cambodia'\n",
            " 'Cameroon' 'Chile' 'China' 'Colombia' 'Cyprus' 'Denmark' 'El Salvador'\n",
            " 'Estonia' 'Ethiopia' 'Fiji' 'Finland' 'France' 'Georgia' 'Ghana'\n",
            " 'Grenada' 'Guinea' 'Haiti' 'Honduras' 'Hungary' 'India' 'Indonesia'\n",
            " 'Ireland' 'Italy' 'Japan' 'Kenya' 'South Korea' 'Liberia' 'Malaysia'\n",
            " 'Mexico' 'Morocco' 'Nepal' 'New Zealand' 'Norway' 'Pakistan' 'Peru'\n",
            " 'Qatar' 'Russia' 'Singapore' 'South Africa' 'Spain' 'Sweden'\n",
            " 'Switzerland' 'Thailand' 'United Arab Emirates' 'United Kingdom'\n",
            " 'United States' 'Uruguay' 'Venezuela' 'Vietnam' 'Zimbabwe']\n",
            "\n",
            "[ 2255.225482    629.9553062 11601.63022   25306.82494   27266.40335\n",
            " 19466.99052     588.3691778  2890.345675  24733.62696    1445.760002\n",
            "  4803.398244   2618.876037    590.4521124   665.7982328  7122.938458\n",
            "  2639.54156    3362.4656    15378.16704   30860.12808    2579.115607\n",
            "  6525.541272    229.6769525  2242.689259  27570.4852    23016.84778\n",
            "  1334.646773    402.6953275  6047.200797    394.1156638   385.5793827\n",
            "  1414.072488   5745.981529    837.7464011  1206.991065  27715.52837\n",
            " 18937.24998   39578.07441     478.2194906 16684.21278     279.2204061\n",
            "  5345.213415   6288.25324    1908.304416    274.8728621 14646.42094\n",
            " 40034.85063     672.1547506  3359.517402  36152.66676    3054.727742\n",
            " 33529.83052    3825.093781  15428.32098   33630.24604   39170.41371\n",
            "  2699.123242  21058.43643   28272.40661   37691.02733    9581.05659\n",
            "  5671.912202    757.4009286   347.7456605]\n"
          ]
        }
      ]
    },
    {
      "cell_type": "code",
      "source": [
        "\n",
        "#finding the maximium gdp\n",
        "max_gdp=gdp.argmax()\n",
        "#finding the coutry in reference to the max value\n",
        "cmax_gdp=country[max_gdp]\n",
        "#printing the coutry according to the max value(equal indexing....)\n",
        "cmax_gdp\n",
        "\n",
        "\n",
        "\n",
        "\n"
      ],
      "metadata": {
        "colab": {
          "base_uri": "https://localhost:8080/",
          "height": 35
        },
        "id": "XZXpaZN1UNWR",
        "outputId": "b47da303-b70a-4d1e-9a2e-3117e6235cab"
      },
      "execution_count": null,
      "outputs": [
        {
          "output_type": "execute_result",
          "data": {
            "application/vnd.google.colaboratory.intrinsic+json": {
              "type": "string"
            },
            "text/plain": [
              "'Norway'"
            ]
          },
          "metadata": {},
          "execution_count": 12
        }
      ]
    },
    {
      "cell_type": "code",
      "source": [
        "#printing country wise gdp\n",
        "for i in range(len(country)):\n",
        "  countries=country[i]\n",
        "  gdp1=gdp[i]\n",
        "  print(\"Country: {}  Gdp: {}\".format(countries,gdp1))\n",
        "\n"
      ],
      "metadata": {
        "colab": {
          "base_uri": "https://localhost:8080/"
        },
        "id": "hr8oeNUGWe6X",
        "outputId": "56fe432c-3fef-4b4f-b491-7863707c49a2"
      },
      "execution_count": null,
      "outputs": [
        {
          "output_type": "stream",
          "name": "stdout",
          "text": [
            "Country: Algeria  Gdp: 2255.225482\n",
            "Country: Angola  Gdp: 629.9553062\n",
            "Country: Argentina  Gdp: 11601.63022\n",
            "Country: Australia  Gdp: 25306.82494\n",
            "Country: Austria  Gdp: 27266.40335\n",
            "Country: Bahamas  Gdp: 19466.99052\n",
            "Country: Bangladesh  Gdp: 588.3691778\n",
            "Country: Belarus  Gdp: 2890.345675\n",
            "Country: Belgium  Gdp: 24733.62696\n",
            "Country: Bhutan  Gdp: 1445.760002\n",
            "Country: Brazil  Gdp: 4803.398244\n",
            "Country: Bulgaria  Gdp: 2618.876037\n",
            "Country: Cambodia  Gdp: 590.4521124\n",
            "Country: Cameroon  Gdp: 665.7982328\n",
            "Country: Chile  Gdp: 7122.938458\n",
            "Country: China  Gdp: 2639.54156\n",
            "Country: Colombia  Gdp: 3362.4656\n",
            "Country: Cyprus  Gdp: 15378.16704\n",
            "Country: Denmark  Gdp: 30860.12808\n",
            "Country: El Salvador  Gdp: 2579.115607\n",
            "Country: Estonia  Gdp: 6525.541272\n",
            "Country: Ethiopia  Gdp: 229.6769525\n",
            "Country: Fiji  Gdp: 2242.689259\n",
            "Country: Finland  Gdp: 27570.4852\n",
            "Country: France  Gdp: 23016.84778\n",
            "Country: Georgia  Gdp: 1334.646773\n",
            "Country: Ghana  Gdp: 402.6953275\n",
            "Country: Grenada  Gdp: 6047.200797\n",
            "Country: Guinea  Gdp: 394.1156638\n",
            "Country: Haiti  Gdp: 385.5793827\n",
            "Country: Honduras  Gdp: 1414.072488\n",
            "Country: Hungary  Gdp: 5745.981529\n",
            "Country: India  Gdp: 837.7464011\n",
            "Country: Indonesia  Gdp: 1206.991065\n",
            "Country: Ireland  Gdp: 27715.52837\n",
            "Country: Italy  Gdp: 18937.24998\n",
            "Country: Japan  Gdp: 39578.07441\n",
            "Country: Kenya  Gdp: 478.2194906\n",
            "Country: South Korea  Gdp: 16684.21278\n",
            "Country: Liberia  Gdp: 279.2204061\n",
            "Country: Malaysia  Gdp: 5345.213415\n",
            "Country: Mexico  Gdp: 6288.25324\n",
            "Country: Morocco  Gdp: 1908.304416\n",
            "Country: Nepal  Gdp: 274.8728621\n",
            "Country: New Zealand  Gdp: 14646.42094\n",
            "Country: Norway  Gdp: 40034.85063\n",
            "Country: Pakistan  Gdp: 672.1547506\n",
            "Country: Peru  Gdp: 3359.517402\n",
            "Country: Qatar  Gdp: 36152.66676\n",
            "Country: Russia  Gdp: 3054.727742\n",
            "Country: Singapore  Gdp: 33529.83052\n",
            "Country: South Africa  Gdp: 3825.093781\n",
            "Country: Spain  Gdp: 15428.32098\n",
            "Country: Sweden  Gdp: 33630.24604\n",
            "Country: Switzerland  Gdp: 39170.41371\n",
            "Country: Thailand  Gdp: 2699.123242\n",
            "Country: United Arab Emirates  Gdp: 21058.43643\n",
            "Country: United Kingdom  Gdp: 28272.40661\n",
            "Country: United States  Gdp: 37691.02733\n",
            "Country: Uruguay  Gdp: 9581.05659\n",
            "Country: Venezuela  Gdp: 5671.912202\n",
            "Country: Vietnam  Gdp: 757.4009286\n",
            "Country: Zimbabwe  Gdp: 347.7456605\n"
          ]
        }
      ]
    },
    {
      "cell_type": "code",
      "source": [
        "#printing the coutry with lowest gdp\n",
        "min_gdp=gdp.argmin()\n",
        "min_gdp_country=country[min_gdp]\n",
        "min_gdp_country"
      ],
      "metadata": {
        "colab": {
          "base_uri": "https://localhost:8080/",
          "height": 35
        },
        "id": "kR7bC9iNZJAF",
        "outputId": "bd249059-545d-46ad-d53a-cb9bcd1c9085"
      },
      "execution_count": null,
      "outputs": [
        {
          "output_type": "execute_result",
          "data": {
            "application/vnd.google.colaboratory.intrinsic+json": {
              "type": "string"
            },
            "text/plain": [
              "'Ethiopia'"
            ]
          },
          "metadata": {},
          "execution_count": 16
        }
      ]
    },
    {
      "cell_type": "code",
      "source": [
        "#printing max,min,mean,std\n",
        "print(gdp.max())\n",
        "print(gdp.min())\n",
        "print(gdp.mean())\n",
        "print(gdp.std())\n"
      ],
      "metadata": {
        "id": "IyzOx9bfZ3g3",
        "colab": {
          "base_uri": "https://localhost:8080/"
        },
        "outputId": "9976954c-d6c3-4a6d-9540-e5440b7dac12"
      },
      "execution_count": null,
      "outputs": [
        {
          "output_type": "stream",
          "name": "stdout",
          "text": [
            "40034.85063\n",
            "229.6769525\n",
            "11289.409271639683\n",
            "12743.828910617945\n"
          ]
        }
      ]
    },
    {
      "cell_type": "code",
      "source": [
        ""
      ],
      "metadata": {
        "id": "p-yqufOkfGpC"
      },
      "execution_count": null,
      "outputs": []
    }
  ]
}